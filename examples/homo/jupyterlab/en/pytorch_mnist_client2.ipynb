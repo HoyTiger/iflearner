{
 "cells": [
  {
   "cell_type": "markdown",
   "metadata": {
    "jupyter": {
     "outputs_hidden": true
    }
   },
   "source": [
    "# iflearner client Configure and start"
   ]
  },
  {
   "cell_type": "markdown",
   "metadata": {},
   "source": [
    "## 1. Virtual environment\n",
    "You can create a virtual running environment of iflearner through virtual tools such as conda and pyenv, and then activate it. "
   ]
  },
  {
   "cell_type": "markdown",
   "metadata": {},
   "source": [
    "### 1.1. Conda\n",
    "1. You need to install conda environment. [install](https://docs.conda.io/projects/conda/en/stable/user-guide/install/index.html)\n",
    "\n",
    "2. We will create a virtual environment through conda and activate it   \n",
    "```shell\n",
    "$ conda create -n iflearner python==3.9 ipykernel\n",
    "$ conda activate iflearner\n",
    "```\n",
    "\n",
    "3. Write the virtual environment into the kernel of jupyter notebook        \n",
    "command: python -m ipykernel install --user --name virtual-environment-name --display-name virtual-environment-name \n",
    "- The first virtual environment name indicates the created virtual environment name\n",
    "- The second virtual environment name indicates that you want it to appear in the kernel options of the jupyter noteboook\n",
    "\n",
    "  example: $ python -m ipykernel install --user --name iflearner --display-name \"iflearner\"\n",
    "\n",
    "4. switch kernel\n",
    "You can select the change kernel button in the kernel menu bar of jupyterlab and select the virtual environment we created"
   ]
  },
  {
   "cell_type": "markdown",
   "metadata": {},
   "source": [
    "## 2. Install the iflearner library and related dependencies"
   ]
  },
  {
   "cell_type": "code",
   "execution_count": 1,
   "metadata": {},
   "outputs": [
    {
     "name": "stdout",
     "output_type": "stream",
     "text": [
      "Looking in indexes: http://pypi.douban.com/simple\n",
      "Requirement already satisfied: torch==1.7.1 in /Users/lucky/opt/anaconda3/lib/python3.8/site-packages (1.7.1)\n",
      "Requirement already satisfied: torchvision==0.8.2 in /Users/lucky/opt/anaconda3/lib/python3.8/site-packages (0.8.2)\n",
      "Requirement already satisfied: typing-extensions in /Users/lucky/opt/anaconda3/lib/python3.8/site-packages (from torch==1.7.1) (4.3.0)\n",
      "Requirement already satisfied: numpy in /Users/lucky/opt/anaconda3/lib/python3.8/site-packages (from torch==1.7.1) (1.21.6)\n",
      "Requirement already satisfied: pillow>=4.1.1 in /Users/lucky/opt/anaconda3/lib/python3.8/site-packages (from torchvision==0.8.2) (9.2.0)\n"
     ]
    }
   ],
   "source": [
    "!pip install iflearner torch==1.7.1 torchvision==0.8.2  --index-url http://pypi.douban.com/simple --trusted-host pypi.douban.com "
   ]
  },
  {
   "cell_type": "markdown",
   "metadata": {},
   "source": [
    "## 3. Define Client and Start"
   ]
  },
  {
   "cell_type": "markdown",
   "metadata": {},
   "source": [
    "### 3.1. Define Pytorch model"
   ]
  },
  {
   "cell_type": "code",
   "execution_count": 1,
   "metadata": {},
   "outputs": [],
   "source": [
    "import torch\n",
    "import torch.nn.functional as F\n",
    "import torch.optim as optim\n",
    "from torch import nn\n",
    "from torchvision import datasets, transforms\n",
    "\n",
    "from iflearner.business.homo.argument import parser\n",
    "from iflearner.business.homo.pytorch_trainer import PyTorchTrainer\n",
    "from iflearner.business.homo.train_client import Controller\n",
    "\n",
    "\n",
    "class Model(nn.Module):\n",
    "    def __init__(self, num_channels, num_classes):\n",
    "        super().__init__()\n",
    "        self.conv1 = nn.Conv2d(num_channels, 10, kernel_size=5)\n",
    "        self.conv2 = nn.Conv2d(10, 20, kernel_size=5)\n",
    "        self.conv2_drop = nn.Dropout2d()\n",
    "        self.fc1 = nn.Linear(320, 50)\n",
    "        self.fc2 = nn.Linear(50, num_classes)\n",
    "\n",
    "    def forward(self, x):\n",
    "        x = F.relu(F.max_pool2d(self.conv1(x), 2))\n",
    "        x = F.relu(F.max_pool2d(self.conv2_drop(self.conv2(x)), 2))\n",
    "        x = x.view(-1, x.shape[1] * x.shape[2] * x.shape[3])\n",
    "        x = F.relu(self.fc1(x))\n",
    "        x = F.dropout(x, training=self.training)\n",
    "        x = self.fc2(x)\n",
    "        return F.log_softmax(x, dim=1)"
   ]
  },
  {
   "cell_type": "markdown",
   "metadata": {},
   "source": [
    "### 3.2. Integrate and implement PytorchTrainer"
   ]
  },
  {
   "cell_type": "code",
   "execution_count": 2,
   "metadata": {},
   "outputs": [],
   "source": [
    "class Mnist(PyTorchTrainer):\n",
    "    def __init__(self, lr=0.15, momentum=0.5) -> None:\n",
    "        self._lr = lr\n",
    "        self._device = (\n",
    "            torch.device(\"cuda\") if torch.cuda.is_available() else torch.device(\"cpu\")\n",
    "        )\n",
    "        print(f\"device: {self._device}\")\n",
    "        self._model = Model(num_channels=1, num_classes=10).to(self._device)\n",
    "\n",
    "        super().__init__(self._model)\n",
    "\n",
    "        self._optimizer = optim.SGD(self._model.parameters(), lr=lr, momentum=momentum)\n",
    "        self._loss = F.nll_loss\n",
    "\n",
    "        apply_transform = transforms.Compose(\n",
    "            [transforms.ToTensor(), transforms.Normalize((0.1307,), (0.3081,))]\n",
    "        )\n",
    "        train_dataset = datasets.MNIST(\n",
    "            \"./data\", train=True, download=True, transform=apply_transform\n",
    "        )\n",
    "        test_dataset = datasets.MNIST(\n",
    "            \"./data\", train=False, download=True, transform=apply_transform\n",
    "        )\n",
    "        self._train_data = torch.utils.data.DataLoader(\n",
    "            train_dataset, batch_size=64, shuffle=True\n",
    "        )\n",
    "        self._test_data = torch.utils.data.DataLoader(\n",
    "            test_dataset, batch_size=64, shuffle=False\n",
    "        )\n",
    "\n",
    "    def fit(self, epoch):\n",
    "        self._model.to(self._device)\n",
    "        self._model.train()\n",
    "        print(\n",
    "            f\"Epoch: {epoch}, the size of training dataset: {len(self._train_data.dataset)}, batch size: {len(self._train_data)}\"\n",
    "        )\n",
    "        for batch_idx, (data, target) in enumerate(self._train_data):\n",
    "            data, target = data.to(self._device), target.to(self._device)\n",
    "            self._optimizer.zero_grad()\n",
    "            output = self._model(data)\n",
    "            loss = self._loss(output, target)\n",
    "            loss.backward()\n",
    "            self._optimizer.step()\n",
    "\n",
    "    def evaluate(self, epoch):\n",
    "        self._model.to(self._device)\n",
    "        self._model.eval()\n",
    "        test_loss = 0\n",
    "        correct = 0\n",
    "        print(f\"The size of testing dataset: {len(self._test_data.dataset)}\")\n",
    "        with torch.no_grad():\n",
    "            for data, target in self._test_data:\n",
    "                data, target = data.to(self._device), target.to(self._device)\n",
    "                output = self._model(data)\n",
    "                test_loss += self._loss(\n",
    "                    output, target, reduction=\"sum\"\n",
    "                ).item()  # sum up batch loss\n",
    "                pred = output.argmax(\n",
    "                    dim=1, keepdim=True\n",
    "                )  # get the index of the max log-probability\n",
    "                correct += pred.eq(target.view_as(pred)).sum().item()\n",
    "        test_loss /= len(self._test_data.dataset)\n",
    "\n",
    "        print(\n",
    "            \"Test set: Average loss: {:.4f}, Accuracy: {}/{} ({:.2f}%)\".format(\n",
    "                test_loss,\n",
    "                correct,\n",
    "                len(self._test_data.dataset),\n",
    "                100.0 * correct / len(self._test_data.dataset),\n",
    "            )\n",
    "        )\n",
    "\n",
    "        return {\"loss\": test_loss, \"acc\": correct / len(self._test_data.dataset)}"
   ]
  },
  {
   "cell_type": "markdown",
   "metadata": {},
   "source": [
    "### 3.3. Start client"
   ]
  },
  {
   "cell_type": "code",
   "execution_count": null,
   "metadata": {},
   "outputs": [
    {
     "name": "stderr",
     "output_type": "stream",
     "text": [
      "2022-08-08 15:10:20.752 | INFO     | iflearner.business.homo.train_client:run:89 - register to server\n"
     ]
    },
    {
     "name": "stdout",
     "output_type": "stream",
     "text": [
      "Namespace(cert=None, enable_ll=0, epochs=10, name='client', peers=None, server='localhost:50001')\n",
      "device: cpu\n"
     ]
    },
    {
     "name": "stderr",
     "output_type": "stream",
     "text": [
      "2022-08-08 15:10:20.925 | INFO     | iflearner.communication.homo.homo_client:transport:59 - OUT: message type: msg_register, time: 171.61533600000035ms\n",
      "2022-08-08 15:10:20.927 | INFO     | iflearner.business.homo.train_client:run:106 - use strategy: FedAvg\n",
      "2022-08-08 15:10:20.932 | INFO     | iflearner.business.homo.train_client:run:139 - report client ready\n",
      "2022-08-08 15:10:20.968 | INFO     | iflearner.communication.homo.homo_client:transport:59 - OUT: message type: msg_client_ready, time: 33.54244400000095ms\n",
      "2022-08-08 15:10:21.943 | INFO     | iflearner.communication.homo.homo_client:notice:94 - IN: party: message type: msg_notify_training, time: 3.377977999999615ms\n",
      "2022-08-08 15:10:21.975 | INFO     | iflearner.business.homo.train_client:run:149 - ----- fit <FT> -----\n"
     ]
    },
    {
     "name": "stdout",
     "output_type": "stream",
     "text": [
      "Epoch: 1, the size of training dataset: 60000, batch size: 938\n"
     ]
    },
    {
     "name": "stderr",
     "output_type": "stream",
     "text": [
      "2022-08-08 15:10:48.314 | INFO     | iflearner.business.homo.train_client:run:167 - ----- evaluate <FT> -----\n"
     ]
    },
    {
     "name": "stdout",
     "output_type": "stream",
     "text": [
      "The size of testing dataset: 10000\n"
     ]
    },
    {
     "name": "stderr",
     "output_type": "stream",
     "text": [
      "2022-08-08 15:10:51.114 | INFO     | iflearner.business.homo.train_client:run:178 - ----- get <FT> -----\n",
      "2022-08-08 15:10:51.125 | INFO     | iflearner.communication.homo.homo_client:transport:59 - OUT: message type: msg_upload_param, time: 7.317812000003698ms\n"
     ]
    },
    {
     "name": "stdout",
     "output_type": "stream",
     "text": [
      "Test set: Average loss: 0.1232, Accuracy: 9645/10000 (96.45%)\n"
     ]
    },
    {
     "name": "stderr",
     "output_type": "stream",
     "text": [
      "2022-08-08 15:10:52.166 | INFO     | iflearner.communication.homo.homo_client:notice:94 - IN: party: message type: msg_aggregate_result, time: 17.402514000004032ms\n",
      "2022-08-08 15:10:53.136 | INFO     | iflearner.business.homo.train_client:run:221 - ----- set -----\n",
      "2022-08-08 15:10:53.142 | INFO     | iflearner.communication.homo.homo_client:transport:59 - OUT: message type: msg_client_ready, time: 3.797904000002461ms\n",
      "2022-08-08 15:10:53.174 | INFO     | iflearner.communication.homo.homo_client:notice:94 - IN: party: message type: msg_notify_training, time: 2.087343999995994ms\n",
      "2022-08-08 15:10:54.149 | INFO     | iflearner.business.homo.train_client:run:149 - ----- fit <FT> -----\n"
     ]
    },
    {
     "name": "stdout",
     "output_type": "stream",
     "text": [
      "Epoch: 2, the size of training dataset: 60000, batch size: 938\n"
     ]
    },
    {
     "name": "stderr",
     "output_type": "stream",
     "text": [
      "2022-08-08 15:11:21.689 | INFO     | iflearner.business.homo.train_client:run:167 - ----- evaluate <FT> -----\n"
     ]
    },
    {
     "name": "stdout",
     "output_type": "stream",
     "text": [
      "The size of testing dataset: 10000\n"
     ]
    },
    {
     "name": "stderr",
     "output_type": "stream",
     "text": [
      "2022-08-08 15:11:24.947 | INFO     | iflearner.business.homo.train_client:run:178 - ----- get <FT> -----\n",
      "2022-08-08 15:11:24.957 | INFO     | iflearner.communication.homo.homo_client:transport:59 - OUT: message type: msg_upload_param, time: 5.441634999996836ms\n"
     ]
    },
    {
     "name": "stdout",
     "output_type": "stream",
     "text": [
      "Test set: Average loss: 0.0921, Accuracy: 9728/10000 (97.28%)\n"
     ]
    },
    {
     "name": "stderr",
     "output_type": "stream",
     "text": [
      "2022-08-08 15:11:26.383 | INFO     | iflearner.communication.homo.homo_client:notice:94 - IN: party: message type: msg_aggregate_result, time: 11.648215999997547ms\n",
      "2022-08-08 15:11:26.965 | INFO     | iflearner.business.homo.train_client:run:221 - ----- set -----\n",
      "2022-08-08 15:11:26.974 | INFO     | iflearner.communication.homo.homo_client:transport:59 - OUT: message type: msg_client_ready, time: 6.697782000003372ms\n",
      "2022-08-08 15:11:27.389 | INFO     | iflearner.communication.homo.homo_client:notice:94 - IN: party: message type: msg_notify_training, time: 1.664048999998613ms\n",
      "2022-08-08 15:11:27.980 | INFO     | iflearner.business.homo.train_client:run:149 - ----- fit <FT> -----\n"
     ]
    },
    {
     "name": "stdout",
     "output_type": "stream",
     "text": [
      "Epoch: 3, the size of training dataset: 60000, batch size: 938\n"
     ]
    },
    {
     "name": "stderr",
     "output_type": "stream",
     "text": [
      "2022-08-08 15:11:55.519 | INFO     | iflearner.business.homo.train_client:run:167 - ----- evaluate <FT> -----\n"
     ]
    },
    {
     "name": "stdout",
     "output_type": "stream",
     "text": [
      "The size of testing dataset: 10000\n"
     ]
    },
    {
     "name": "stderr",
     "output_type": "stream",
     "text": [
      "2022-08-08 15:11:59.272 | INFO     | iflearner.business.homo.train_client:run:178 - ----- get <FT> -----\n",
      "2022-08-08 15:11:59.282 | INFO     | iflearner.communication.homo.homo_client:transport:59 - OUT: message type: msg_upload_param, time: 5.099517000004994ms\n"
     ]
    },
    {
     "name": "stdout",
     "output_type": "stream",
     "text": [
      "Test set: Average loss: 0.0810, Accuracy: 9765/10000 (97.65%)\n"
     ]
    },
    {
     "name": "stderr",
     "output_type": "stream",
     "text": [
      "2022-08-08 15:11:59.692 | INFO     | iflearner.communication.homo.homo_client:notice:94 - IN: party: message type: msg_aggregate_result, time: 13.90869200000111ms\n",
      "2022-08-08 15:12:00.288 | INFO     | iflearner.business.homo.train_client:run:221 - ----- set -----\n",
      "2022-08-08 15:12:00.294 | INFO     | iflearner.communication.homo.homo_client:transport:59 - OUT: message type: msg_client_ready, time: 3.9949549999960254ms\n",
      "2022-08-08 15:12:00.701 | INFO     | iflearner.communication.homo.homo_client:notice:94 - IN: party: message type: msg_notify_training, time: 2.3002800000000434ms\n",
      "2022-08-08 15:12:01.300 | INFO     | iflearner.business.homo.train_client:run:149 - ----- fit <FT> -----\n"
     ]
    },
    {
     "name": "stdout",
     "output_type": "stream",
     "text": [
      "Epoch: 4, the size of training dataset: 60000, batch size: 938\n"
     ]
    },
    {
     "name": "stderr",
     "output_type": "stream",
     "text": [
      "2022-08-08 15:12:31.693 | INFO     | iflearner.business.homo.train_client:run:167 - ----- evaluate <FT> -----\n"
     ]
    },
    {
     "name": "stdout",
     "output_type": "stream",
     "text": [
      "The size of testing dataset: 10000\n"
     ]
    },
    {
     "name": "stderr",
     "output_type": "stream",
     "text": [
      "2022-08-08 15:12:35.347 | INFO     | iflearner.business.homo.train_client:run:178 - ----- get <FT> -----\n",
      "2022-08-08 15:12:35.358 | INFO     | iflearner.communication.homo.homo_client:transport:59 - OUT: message type: msg_upload_param, time: 6.488171000000875ms\n"
     ]
    },
    {
     "name": "stdout",
     "output_type": "stream",
     "text": [
      "Test set: Average loss: 0.0666, Accuracy: 9792/10000 (97.92%)\n"
     ]
    },
    {
     "name": "stderr",
     "output_type": "stream",
     "text": [
      "2022-08-08 15:12:35.994 | INFO     | iflearner.communication.homo.homo_client:notice:94 - IN: party: message type: msg_aggregate_result, time: 16.314814999986993ms\n",
      "2022-08-08 15:12:36.365 | INFO     | iflearner.business.homo.train_client:run:221 - ----- set -----\n",
      "2022-08-08 15:12:36.374 | INFO     | iflearner.communication.homo.homo_client:transport:59 - OUT: message type: msg_client_ready, time: 6.8789519999938875ms\n",
      "2022-08-08 15:12:37.000 | INFO     | iflearner.communication.homo.homo_client:notice:94 - IN: party: message type: msg_notify_training, time: 2.5227830000176255ms\n",
      "2022-08-08 15:12:37.380 | INFO     | iflearner.business.homo.train_client:run:149 - ----- fit <FT> -----\n"
     ]
    },
    {
     "name": "stdout",
     "output_type": "stream",
     "text": [
      "Epoch: 5, the size of training dataset: 60000, batch size: 938\n"
     ]
    },
    {
     "name": "stderr",
     "output_type": "stream",
     "text": [
      "2022-08-08 15:13:01.614 | INFO     | iflearner.business.homo.train_client:run:167 - ----- evaluate <FT> -----\n"
     ]
    },
    {
     "name": "stdout",
     "output_type": "stream",
     "text": [
      "The size of testing dataset: 10000\n"
     ]
    },
    {
     "name": "stderr",
     "output_type": "stream",
     "text": [
      "2022-08-08 15:13:03.974 | INFO     | iflearner.business.homo.train_client:run:178 - ----- get <FT> -----\n",
      "2022-08-08 15:13:03.986 | INFO     | iflearner.communication.homo.homo_client:transport:59 - OUT: message type: msg_upload_param, time: 7.961957000020448ms\n",
      "2022-08-08 15:13:04.161 | INFO     | iflearner.communication.homo.homo_client:notice:94 - IN: party: message type: msg_aggregate_result, time: 11.314636999998129ms\n"
     ]
    },
    {
     "name": "stdout",
     "output_type": "stream",
     "text": [
      "Test set: Average loss: 0.0604, Accuracy: 9820/10000 (98.20%)\n"
     ]
    },
    {
     "name": "stderr",
     "output_type": "stream",
     "text": [
      "2022-08-08 15:13:04.997 | INFO     | iflearner.business.homo.train_client:run:221 - ----- set -----\n",
      "2022-08-08 15:13:05.003 | INFO     | iflearner.communication.homo.homo_client:transport:59 - OUT: message type: msg_client_ready, time: 3.58740100000432ms\n",
      "2022-08-08 15:13:05.167 | INFO     | iflearner.communication.homo.homo_client:notice:94 - IN: party: message type: msg_notify_training, time: 2.48644499998818ms\n",
      "2022-08-08 15:13:06.009 | INFO     | iflearner.business.homo.train_client:run:149 - ----- fit <FT> -----\n"
     ]
    },
    {
     "name": "stdout",
     "output_type": "stream",
     "text": [
      "Epoch: 6, the size of training dataset: 60000, batch size: 938\n"
     ]
    },
    {
     "name": "stderr",
     "output_type": "stream",
     "text": [
      "2022-08-08 15:13:32.466 | INFO     | iflearner.business.homo.train_client:run:167 - ----- evaluate <FT> -----\n"
     ]
    },
    {
     "name": "stdout",
     "output_type": "stream",
     "text": [
      "The size of testing dataset: 10000\n"
     ]
    },
    {
     "name": "stderr",
     "output_type": "stream",
     "text": [
      "2022-08-08 15:13:35.313 | INFO     | iflearner.business.homo.train_client:run:178 - ----- get <FT> -----\n",
      "2022-08-08 15:13:35.321 | INFO     | iflearner.communication.homo.homo_client:transport:59 - OUT: message type: msg_upload_param, time: 4.098112999997738ms\n"
     ]
    },
    {
     "name": "stdout",
     "output_type": "stream",
     "text": [
      "Test set: Average loss: 0.0640, Accuracy: 9796/10000 (97.96%)\n"
     ]
    },
    {
     "name": "stderr",
     "output_type": "stream",
     "text": [
      "2022-08-08 15:13:36.363 | INFO     | iflearner.communication.homo.homo_client:notice:94 - IN: party: message type: msg_aggregate_result, time: 16.434064999998554ms\n",
      "2022-08-08 15:13:37.331 | INFO     | iflearner.business.homo.train_client:run:221 - ----- set -----\n",
      "2022-08-08 15:13:37.343 | INFO     | iflearner.communication.homo.homo_client:transport:59 - OUT: message type: msg_client_ready, time: 8.650930000015933ms\n",
      "2022-08-08 15:13:37.368 | INFO     | iflearner.communication.homo.homo_client:notice:94 - IN: party: message type: msg_notify_training, time: 2.2312460000080137ms\n",
      "2022-08-08 15:13:38.347 | INFO     | iflearner.business.homo.train_client:run:149 - ----- fit <FT> -----\n"
     ]
    },
    {
     "name": "stdout",
     "output_type": "stream",
     "text": [
      "Epoch: 7, the size of training dataset: 60000, batch size: 938\n"
     ]
    },
    {
     "name": "stderr",
     "output_type": "stream",
     "text": [
      "2022-08-08 15:14:01.603 | INFO     | iflearner.business.homo.train_client:run:167 - ----- evaluate <FT> -----\n"
     ]
    },
    {
     "name": "stdout",
     "output_type": "stream",
     "text": [
      "The size of testing dataset: 10000\n"
     ]
    },
    {
     "name": "stderr",
     "output_type": "stream",
     "text": [
      "2022-08-08 15:14:03.927 | INFO     | iflearner.business.homo.train_client:run:178 - ----- get <FT> -----\n",
      "2022-08-08 15:14:03.935 | INFO     | iflearner.communication.homo.homo_client:transport:59 - OUT: message type: msg_upload_param, time: 3.1556029999819657ms\n"
     ]
    },
    {
     "name": "stdout",
     "output_type": "stream",
     "text": [
      "Test set: Average loss: 0.0707, Accuracy: 9796/10000 (97.96%)\n"
     ]
    },
    {
     "name": "stderr",
     "output_type": "stream",
     "text": [
      "2022-08-08 15:14:04.545 | INFO     | iflearner.communication.homo.homo_client:notice:94 - IN: party: message type: msg_aggregate_result, time: 11.087917999986985ms\n",
      "2022-08-08 15:14:04.937 | INFO     | iflearner.business.homo.train_client:run:221 - ----- set -----\n",
      "2022-08-08 15:14:04.948 | INFO     | iflearner.communication.homo.homo_client:transport:59 - OUT: message type: msg_client_ready, time: 7.694675999999845ms\n",
      "2022-08-08 15:14:05.552 | INFO     | iflearner.communication.homo.homo_client:notice:94 - IN: party: message type: msg_notify_training, time: 3.36012500000038ms\n",
      "2022-08-08 15:14:05.955 | INFO     | iflearner.business.homo.train_client:run:149 - ----- fit <FT> -----\n"
     ]
    },
    {
     "name": "stdout",
     "output_type": "stream",
     "text": [
      "Epoch: 8, the size of training dataset: 60000, batch size: 938\n"
     ]
    },
    {
     "name": "stderr",
     "output_type": "stream",
     "text": [
      "2022-08-08 15:14:28.293 | INFO     | iflearner.business.homo.train_client:run:167 - ----- evaluate <FT> -----\n"
     ]
    },
    {
     "name": "stdout",
     "output_type": "stream",
     "text": [
      "The size of testing dataset: 10000\n"
     ]
    },
    {
     "name": "stderr",
     "output_type": "stream",
     "text": [
      "2022-08-08 15:14:30.574 | INFO     | iflearner.business.homo.train_client:run:178 - ----- get <FT> -----\n",
      "2022-08-08 15:14:30.585 | INFO     | iflearner.communication.homo.homo_client:transport:59 - OUT: message type: msg_upload_param, time: 5.458575999966797ms\n"
     ]
    },
    {
     "name": "stdout",
     "output_type": "stream",
     "text": [
      "Test set: Average loss: 0.0607, Accuracy: 9809/10000 (98.09%)\n"
     ]
    },
    {
     "name": "stderr",
     "output_type": "stream",
     "text": [
      "2022-08-08 15:14:31.719 | INFO     | iflearner.communication.homo.homo_client:notice:94 - IN: party: message type: msg_aggregate_result, time: 17.025600000010854ms\n",
      "2022-08-08 15:14:32.598 | INFO     | iflearner.business.homo.train_client:run:221 - ----- set -----\n",
      "2022-08-08 15:14:32.606 | INFO     | iflearner.communication.homo.homo_client:transport:59 - OUT: message type: msg_client_ready, time: 5.072592000033183ms\n",
      "2022-08-08 15:14:32.724 | INFO     | iflearner.communication.homo.homo_client:notice:94 - IN: party: message type: msg_notify_training, time: 2.4720259999639893ms\n",
      "2022-08-08 15:14:33.612 | INFO     | iflearner.business.homo.train_client:run:149 - ----- fit <FT> -----\n"
     ]
    },
    {
     "name": "stdout",
     "output_type": "stream",
     "text": [
      "Epoch: 9, the size of training dataset: 60000, batch size: 938\n"
     ]
    },
    {
     "name": "stderr",
     "output_type": "stream",
     "text": [
      "2022-08-08 15:14:56.888 | INFO     | iflearner.business.homo.train_client:run:167 - ----- evaluate <FT> -----\n"
     ]
    },
    {
     "name": "stdout",
     "output_type": "stream",
     "text": [
      "The size of testing dataset: 10000\n"
     ]
    },
    {
     "name": "stderr",
     "output_type": "stream",
     "text": [
      "2022-08-08 15:14:59.311 | INFO     | iflearner.business.homo.train_client:run:178 - ----- get <FT> -----\n",
      "2022-08-08 15:14:59.323 | INFO     | iflearner.communication.homo.homo_client:transport:59 - OUT: message type: msg_upload_param, time: 8.609791000026235ms\n"
     ]
    },
    {
     "name": "stdout",
     "output_type": "stream",
     "text": [
      "Test set: Average loss: 0.0808, Accuracy: 9735/10000 (97.35%)\n"
     ]
    },
    {
     "name": "stderr",
     "output_type": "stream",
     "text": [
      "2022-08-08 15:15:00.887 | INFO     | iflearner.communication.homo.homo_client:notice:94 - IN: party: message type: msg_aggregate_result, time: 16.304445000002943ms\n",
      "2022-08-08 15:15:01.338 | INFO     | iflearner.business.homo.train_client:run:221 - ----- set -----\n",
      "2022-08-08 15:15:01.346 | INFO     | iflearner.communication.homo.homo_client:transport:59 - OUT: message type: msg_client_ready, time: 5.543875000000753ms\n",
      "2022-08-08 15:15:01.895 | INFO     | iflearner.communication.homo.homo_client:notice:94 - IN: party: message type: msg_notify_training, time: 3.737388999979885ms\n",
      "2022-08-08 15:15:02.353 | INFO     | iflearner.business.homo.train_client:run:149 - ----- fit <FT> -----\n"
     ]
    },
    {
     "name": "stdout",
     "output_type": "stream",
     "text": [
      "Epoch: 10, the size of training dataset: 60000, batch size: 938\n"
     ]
    },
    {
     "name": "stderr",
     "output_type": "stream",
     "text": [
      "2022-08-08 15:15:24.933 | INFO     | iflearner.business.homo.train_client:run:167 - ----- evaluate <FT> -----\n"
     ]
    },
    {
     "name": "stdout",
     "output_type": "stream",
     "text": [
      "The size of testing dataset: 10000\n"
     ]
    },
    {
     "name": "stderr",
     "output_type": "stream",
     "text": [
      "2022-08-08 15:15:27.289 | INFO     | iflearner.business.homo.train_client:run:178 - ----- get <FT> -----\n"
     ]
    },
    {
     "name": "stdout",
     "output_type": "stream",
     "text": [
      "Test set: Average loss: 0.0570, Accuracy: 9830/10000 (98.30%)\n",
      "label: FT, points: ([1, 2, 3, 4, 5, 6, 7, 8, 9, 10], [0.12315296365953982, 0.09213094894941896, 0.0810126814592164, 0.06658224524520337, 0.06041985516438726, 0.06403173434020719, 0.07068393242153106, 0.06073516227027867, 0.08081894085274544, 0.056957239710199795])\n",
      "label: LT, points: ([1], [0.12315296365953982])\n",
      "label: FT, points: ([1, 2, 3, 4, 5, 6, 7, 8, 9, 10], [0.9645, 0.9728, 0.9765, 0.9792, 0.982, 0.9796, 0.9796, 0.9809, 0.9735, 0.983])\n",
      "label: LT, points: ([1], [0.9645])\n"
     ]
    }
   ],
   "source": [
    "if __name__ == \"__main__\":\n",
    "    args = parser.parse_args(args=[])\n",
    "    print(args)\n",
    "    args.name = \"client02\"\n",
    "    args.epochs = 2\n",
    "    mnist = Mnist()\n",
    "    controller = Controller(args, mnist)\n",
    "    controller.run()"
   ]
  },
  {
   "cell_type": "code",
   "execution_count": null,
   "metadata": {},
   "outputs": [],
   "source": []
  }
 ],
 "metadata": {
  "kernelspec": {
   "display_name": "iflearner",
   "language": "python",
   "name": "iflearner"
  },
  "language_info": {
   "codemirror_mode": {
    "name": "ipython",
    "version": 3
   },
   "file_extension": ".py",
   "mimetype": "text/x-python",
   "name": "python",
   "nbconvert_exporter": "python",
   "pygments_lexer": "ipython3",
   "version": "3.8.8"
  }
 },
 "nbformat": 4,
 "nbformat_minor": 4
}
